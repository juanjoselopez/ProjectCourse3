{
 "cells": [
  {
   "cell_type": "markdown",
   "metadata": {},
   "source": [
    "# Proyecto de Curso 3: Getting and Cleaning Data\n",
    "### Entrega \"Getting and Cleaning Data Course Project\"\n",
    "<hr/>"
   ]
  },
  {
   "cell_type": "markdown",
   "metadata": {},
   "source": [
    "**1. Fusionando os distintos files, convergiendo en único file.**"
   ]
  },
  {
   "cell_type": "code",
   "execution_count": 2,
   "metadata": {},
   "outputs": [
    {
     "name": "stderr",
     "output_type": "stream",
     "text": [
      "Warning message:\n",
      "\"package 'dplyr' was built under R version 3.6.3\"\n",
      "\n",
      "Attaching package: 'dplyr'\n",
      "\n",
      "\n",
      "The following objects are masked from 'package:stats':\n",
      "\n",
      "    filter, lag\n",
      "\n",
      "\n",
      "The following objects are masked from 'package:base':\n",
      "\n",
      "    intersect, setdiff, setequal, union\n",
      "\n",
      "\n"
     ]
    }
   ],
   "source": [
    "library(dplyr)"
   ]
  },
  {
   "cell_type": "code",
   "execution_count": 6,
   "metadata": {},
   "outputs": [
    {
     "data": {
      "text/plain": [
       "R version 3.6.1 (2019-07-05)\n",
       "Platform: x86_64-w64-mingw32/x64 (64-bit)\n",
       "Running under: Windows 10 x64 (build 19042)\n",
       "\n",
       "Matrix products: default\n",
       "\n",
       "locale:\n",
       "[1] LC_COLLATE=Spanish_Spain.1252  LC_CTYPE=Spanish_Spain.1252   \n",
       "[3] LC_MONETARY=Spanish_Spain.1252 LC_NUMERIC=C                  \n",
       "[5] LC_TIME=Spanish_Spain.1252    \n",
       "\n",
       "attached base packages:\n",
       "[1] stats     graphics  grDevices utils     datasets  methods   base     \n",
       "\n",
       "other attached packages:\n",
       "[1] dplyr_1.0.2\n",
       "\n",
       "loaded via a namespace (and not attached):\n",
       " [1] digest_0.6.27    crayon_1.3.4     IRdisplay_0.7.0  R6_2.5.0        \n",
       " [5] repr_1.1.0       lifecycle_0.2.0  jsonlite_1.7.1   magrittr_1.5    \n",
       " [9] evaluate_0.14    pillar_1.4.6     rlang_0.4.8      uuid_0.1-4      \n",
       "[13] generics_0.1.0   vctrs_0.3.4      ellipsis_0.3.1   IRkernel_1.1.1  \n",
       "[17] tools_3.6.1      glue_1.4.2       purrr_0.3.4      compiler_3.6.1  \n",
       "[21] pkgconfig_2.0.3  base64enc_0.1-3  htmltools_0.5.0  pbdZMQ_0.3-3.1  \n",
       "[25] tidyselect_1.1.0 tibble_3.0.4    "
      ]
     },
     "metadata": {},
     "output_type": "display_data"
    }
   ],
   "source": []
  },
  {
   "cell_type": "code",
   "execution_count": null,
   "metadata": {},
   "outputs": [],
   "source": []
  }
 ],
 "metadata": {
  "kernelspec": {
   "display_name": "R",
   "language": "R",
   "name": "ir"
  },
  "language_info": {
   "codemirror_mode": "r",
   "file_extension": ".r",
   "mimetype": "text/x-r-source",
   "name": "R",
   "pygments_lexer": "r",
   "version": "3.6.1"
  }
 },
 "nbformat": 4,
 "nbformat_minor": 4
}
